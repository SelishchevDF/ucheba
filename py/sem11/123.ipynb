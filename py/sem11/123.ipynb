{
 "cells": [
  {
   "cell_type": "markdown",
   "id": "bdc2e7e9",
   "metadata": {},
   "source": [
    "f(x) = (sin(x)/2 + cos(x)/2)^2 * sin(x)\n",
    "\n",
    "Определить корни\n",
    "\n",
    "Найти интервалы, на которых функция возрастает\n",
    "\n",
    "Найти интервалы, на которых функция убывает\n",
    "\n",
    "Построить график\n",
    "\n",
    "Вычислить вершину\n",
    "\n",
    "Определить промежутки, на котором f > 0\n",
    "\n",
    "Определить промежутки, на котором f < 0"
   ]
  },
  {
   "cell_type": "code",
   "execution_count": 14,
   "id": "31312343",
   "metadata": {},
   "outputs": [],
   "source": [
    "import sympy as s\n"
   ]
  },
  {
   "cell_type": "code",
   "execution_count": 15,
   "id": "633fcd3d",
   "metadata": {
    "scrolled": true
   },
   "outputs": [
    {
     "data": {
      "text/latex": [
       "$\\displaystyle \\left(\\frac{\\sin{\\left(x \\right)}}{2} + \\frac{\\cos{\\left(x \\right)}}{2}\\right)^{2} \\sin{\\left(x \\right)}$"
      ],
      "text/plain": [
       "(sin(x)/2 + cos(x)/2)**2*sin(x)"
      ]
     },
     "execution_count": 15,
     "metadata": {},
     "output_type": "execute_result"
    }
   ],
   "source": [
    "x = s.Symbol('x')\n",
    "y = (s.sin(x)/2 + s.cos(x)/2)**2 * s.sin(x)\n",
    "y"
   ]
  },
  {
   "cell_type": "markdown",
   "id": "9d7d48e5",
   "metadata": {},
   "source": [
    "1. Определить корни"
   ]
  },
  {
   "cell_type": "code",
   "execution_count": 67,
   "id": "6f2a6a89",
   "metadata": {},
   "outputs": [
    {
     "data": {
      "text/plain": [
       "[0, -pi/4, 3*pi/4, pi]"
      ]
     },
     "execution_count": 67,
     "metadata": {},
     "output_type": "execute_result"
    }
   ],
   "source": [
    "res_f = s.solve(y, x)\n",
    "res_f"
   ]
  },
  {
   "cell_type": "markdown",
   "id": "59ab5fc0",
   "metadata": {},
   "source": [
    "2. Найти интервалы, на которых функция возрастает\n",
    "\n",
    "3 .Найти интервалы, на которых функция убывает"
   ]
  },
  {
   "cell_type": "code",
   "execution_count": 18,
   "id": "86fcb77d",
   "metadata": {},
   "outputs": [
    {
     "data": {
      "text/latex": [
       "$\\displaystyle \\left(- \\sin{\\left(x \\right)} + \\cos{\\left(x \\right)}\\right) \\left(\\frac{\\sin{\\left(x \\right)}}{2} + \\frac{\\cos{\\left(x \\right)}}{2}\\right) \\sin{\\left(x \\right)} + \\left(\\frac{\\sin{\\left(x \\right)}}{2} + \\frac{\\cos{\\left(x \\right)}}{2}\\right)^{2} \\cos{\\left(x \\right)}$"
      ],
      "text/plain": [
       "(-sin(x) + cos(x))*(sin(x)/2 + cos(x)/2)*sin(x) + (sin(x)/2 + cos(x)/2)**2*cos(x)"
      ]
     },
     "execution_count": 18,
     "metadata": {},
     "output_type": "execute_result"
    }
   ],
   "source": [
    "# определение производной\n",
    "f_diff = s.diff(y)\n",
    "f_diff"
   ]
  },
  {
   "cell_type": "code",
   "execution_count": 45,
   "id": "4a0a4b78",
   "metadata": {},
   "outputs": [
    {
     "data": {
      "text/plain": [
       "[-pi/4,\n",
       " 3*pi/4,\n",
       " -2*atan(-3/2 + sqrt(6)*sqrt(5 - sqrt(17))/2 + sqrt(17)/2),\n",
       " 2*atan(3/2 + sqrt(17)/2 + sqrt(6)*sqrt(sqrt(17) + 5)/2),\n",
       " 2*atan(-sqrt(17)/2 + sqrt(6)*sqrt(5 - sqrt(17))/2 + 3/2),\n",
       " 2*atan(-sqrt(6)*sqrt(sqrt(17) + 5)/2 + 3/2 + sqrt(17)/2)]"
      ]
     },
     "execution_count": 45,
     "metadata": {},
     "output_type": "execute_result"
    }
   ],
   "source": [
    "# определение корней производной\n",
    "res_f_dif = s.solve(f_diff,x)\n",
    "res_f_dif"
   ]
  },
  {
   "cell_type": "code",
   "execution_count": 46,
   "id": "40ac68c8",
   "metadata": {},
   "outputs": [
    {
     "data": {
      "text/plain": [
       "[-3.14, -2.08, -0.79, -0.27, 1.06, 2.36, 2.87, 3.14]"
      ]
     },
     "execution_count": 46,
     "metadata": {},
     "output_type": "execute_result"
    }
   ],
   "source": [
    "res_f_dif.append(s.pi)\n",
    "res_f_dif.insert(0,-s.pi)\n",
    "res_f_dif.sort()\n",
    "for i in range(0, len(res_f_dif)): res_f_dif[i] = round(res_f_dif[i],2)\n",
    "res_f_dif"
   ]
  },
  {
   "cell_type": "code",
   "execution_count": 58,
   "id": "d3b75cdf",
   "metadata": {
    "scrolled": true
   },
   "outputs": [
    {
     "name": "stdout",
     "output_type": "stream",
     "text": [
      "(-3.14):(-2.08) -убывает\n",
      "(-2.08):(-0.79) -возрастает\n",
      "(-0.79):(-0.27) -убывает\n",
      "(-0.27):(1.06) -возрастает\n",
      "(1.06):(2.36) -убывает\n",
      "(2.36):(2.87) -возрастает\n",
      "(2.87):(3.14) -убывает\n"
     ]
    }
   ],
   "source": [
    "# определение интервалов возрастания и убывания\n",
    "for i in range(0,len(res_f_dif)-1):\n",
    "    res = f_diff.subs(x, (res_f_dif[i] + res_f_dif[i+1])/2)\n",
    "    if res > 0: print(f'({res_f_dif[i]}):({res_f_dif[i+1]}) -возрастает')\n",
    "    else: print(f'({res_f_dif[i]}):({res_f_dif[i+1]}) -убывает')"
   ]
  },
  {
   "cell_type": "markdown",
   "id": "ef34a759",
   "metadata": {},
   "source": [
    "4. Построить график"
   ]
  },
  {
   "cell_type": "code",
   "execution_count": 59,
   "id": "0b52ffc2",
   "metadata": {},
   "outputs": [
    {
     "data": {
      "image/png": "[encoded data removed]",
      "text/plain": [
       "<Figure size 432x288 with 1 Axes>"
      ]
     },
     "metadata": {
      "needs_background": "light"
     },
     "output_type": "display_data"
    }
   ],
   "source": [
    "graf = s.plot(y,(x,-s.pi,s.pi))"
   ]
  },
  {
   "cell_type": "markdown",
   "id": "751feb6d",
   "metadata": {},
   "source": [
    "5. вычислить вершину "
   ]
  },
  {
   "cell_type": "code",
   "execution_count": 64,
   "id": "91c411e7",
   "metadata": {},
   "outputs": [
    {
     "name": "stdout",
     "output_type": "stream",
     "text": [
      "y_max= 0.40\n",
      "y_mix= -0.40\n"
     ]
    }
   ],
   "source": [
    "y_max = round(s.maximum(y,x, s.Interval(-s.pi,s.pi)),2)\n",
    "print(f'y_max= {y_max}')\n",
    "y_min = round(s.minimum(y,x, s.Interval(-s.pi,s.pi)),2)\n",
    "print(f'y_mix= {y_min}')"
   ]
  },
  {
   "cell_type": "markdown",
   "id": "a0f71b90",
   "metadata": {},
   "source": [
    "6.Определить промежутки, на котором f > 0\n",
    "\n",
    "7.Определить промежутки, на котором f < 0"
   ]
  },
  {
   "cell_type": "code",
   "execution_count": 68,
   "id": "de6f1210",
   "metadata": {},
   "outputs": [
    {
     "data": {
      "text/plain": [
       "[-3.14, -0.79, 0, 2.36, 3.14]"
      ]
     },
     "execution_count": 68,
     "metadata": {},
     "output_type": "execute_result"
    }
   ],
   "source": [
    "res_f.append(-s.pi)\n",
    "for i in range(0, len(res_f)):\n",
    "    res_f[i] = round(res_f[i],2)\n",
    "res_f.sort()\n",
    "res_f"
   ]
  },
  {
   "cell_type": "code",
   "execution_count": 71,
   "id": "002b22d6",
   "metadata": {},
   "outputs": [
    {
     "name": "stdout",
     "output_type": "stream",
     "text": [
      "(-3.14):(-0.79) меньше 0\n",
      "(-0.79):(0) меньше 0\n",
      "(0):(2.36) больше 0\n",
      "(2.36):(3.14) больше 0\n"
     ]
    }
   ],
   "source": [
    "for i in range(0,len(res_f)-1):\n",
    "    res = y.subs(x, (res_f[i] + res_f[i+1])/2)\n",
    "    if res > 0: print(f'({res_f[i]}):({res_f[i+1]}) больше 0')\n",
    "    else: print(f'({res_f[i]}):({res_f[i+1]}) меньше 0')"
   ]
  },
  {
   "cell_type": "code",
   "execution_count": null,
   "id": "3e47c716",
   "metadata": {},
   "outputs": [],
   "source": []
  }
 ],
 "metadata": {
  "kernelspec": {
   "display_name": "Python 3 (ipykernel)",
   "language": "python",
   "name": "python3"
  },
  "language_info": {
   "codemirror_mode": {
    "name": "ipython",
    "version": 3
   },
   "file_extension": ".py",
   "mimetype": "text/x-python",
   "name": "python",
   "nbconvert_exporter": "python",
   "pygments_lexer": "ipython3",
   "version": "3.9.12"
  }
 },
 "nbformat": 4,
 "nbformat_minor": 5
}
